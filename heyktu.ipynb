{
  "nbformat": 4,
  "nbformat_minor": 0,
  "metadata": {
    "colab": {
      "private_outputs": true,
      "provenance": [],
      "authorship_tag": "ABX9TyN9dnivaXxqWj73lpp9zVbI",
      "include_colab_link": true
    },
    "kernelspec": {
      "name": "python3",
      "display_name": "Python 3"
    },
    "language_info": {
      "name": "python"
    }
  },
  "cells": [
    {
      "cell_type": "markdown",
      "metadata": {
        "id": "view-in-github",
        "colab_type": "text"
      },
      "source": [
        "<a href=\"https://colab.research.google.com/github/Sree14hari/ktu-scraping/blob/main/heyktu.ipynb\" target=\"_parent\"><img src=\"https://colab.research.google.com/assets/colab-badge.svg\" alt=\"Open In Colab\"/></a>"
      ]
    },
    {
      "cell_type": "code",
      "source": [
        "!pip install requests beautifulsoup4"
      ],
      "metadata": {
        "id": "xy9Z34d13wML"
      },
      "execution_count": null,
      "outputs": []
    },
    {
      "cell_type": "code",
      "execution_count": null,
      "metadata": {
        "id": "ozjQMwtl3sVb"
      },
      "outputs": [],
      "source": [
        "import requests\n",
        "import urllib3\n",
        "\n",
        "# Disable SSL warnings (not recommended for production use)\n",
        "urllib3.disable_warnings(urllib3.exceptions.InsecureRequestWarning)\n",
        "\n",
        "# Start a session\n",
        "session = requests.Session()\n",
        "\n",
        "# Replace with your actual login URL and credentials\n",
        "login_url = \"https://app.ktu.edu.in/j_spring_security_check\"\n",
        "login_payload = {\n",
        "    'j_username': 'SBC23AM055',\n",
        "    'j_password': 'sree@2005'\n",
        "}\n",
        "\n",
        "# Perform login (disable SSL verification)\n",
        "response = session.post(login_url, data=login_payload, verify=False)\n",
        "\n",
        "print(\"Login status code:\", response.status_code)\n",
        "\n",
        "# Example: Fetch some page after login\n",
        "dashboard_url = \"https://app.ktu.edu.in/dashboard\"  # or another page\n",
        "dashboard_response = session.get(dashboard_url, verify=False)\n",
        "\n",
        "print(\"Dashboard HTML:\", dashboard_response.text[:500])  # print first 500 chars\n"
      ]
    },
    {
      "cell_type": "code",
      "source": [
        "from bs4 import BeautifulSoup\n",
        "\n",
        "soup = BeautifulSoup(response.text, 'html.parser')\n",
        "print(soup.prettify())\n"
      ],
      "metadata": {
        "id": "qUqOI3c04tC1"
      },
      "execution_count": null,
      "outputs": []
    },
    {
      "cell_type": "code",
      "source": [
        "import requests\n",
        "from bs4 import BeautifulSoup\n",
        "\n",
        "# Step 1: Login credentials\n",
        "login_url = \"https://app.ktu.edu.in/j_spring_security_check\"\n",
        "dashboard_url = \"https://app.ktu.edu.in/ktu-web/student/studentIndex.htm\"\n",
        "result_url = \"https://app.ktu.edu.in/ktu-web/student/examResults.htm\"  # Usually correct\n",
        "\n",
        "payload = {\n",
        "    'j_username': 'SBC23AM055',  # Replace with your login ID\n",
        "    'j_password': 'sree@2005'  # Replace with your password\n",
        "}\n",
        "\n",
        "session = requests.Session()\n",
        "\n",
        "# Step 2: Login\n",
        "login_response = session.post(login_url, data=payload, verify=False)\n",
        "\n",
        "# Step 3: Access Results Page\n",
        "result_response = session.get(result_url, verify=False)\n",
        "soup = BeautifulSoup(result_response.text, 'html.parser')\n",
        "\n",
        "# Step 4: Parse result data\n",
        "tables = soup.find_all('table')  # All tables\n",
        "\n",
        "if tables:\n",
        "    for table in tables:\n",
        "        rows = table.find_all('tr')\n",
        "        for row in rows:\n",
        "            cols = row.find_all(['td', 'th'])\n",
        "            data = [ele.get_text(strip=True) for ele in cols]\n",
        "            print(data)\n",
        "else:\n",
        "    print(\"No tables found. Possibly session expired or results not available.\")\n"
      ],
      "metadata": {
        "id": "QLz8huww5IdA"
      },
      "execution_count": null,
      "outputs": []
    }
  ]
}